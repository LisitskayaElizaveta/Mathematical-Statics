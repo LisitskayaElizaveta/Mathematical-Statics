{
 "cells": [
  {
   "cell_type": "markdown",
   "id": "3206838d-3991-41e5-9233-2a00a6ac5725",
   "metadata": {},
   "source": [
    "# Доверительные интервалы"
   ]
  },
  {
   "cell_type": "code",
   "execution_count": 2,
   "id": "f119b20c-c1a2-4d4f-b397-c952db1d4655",
   "metadata": {},
   "outputs": [],
   "source": [
    "import numpy as np\n",
    "import scipy.stats as stats\n",
    "import matplotlib.pyplot as plt"
   ]
  },
  {
   "cell_type": "code",
   "execution_count": 4,
   "id": "9674d6e6-251a-4a6b-b2b5-8a200b9fe6cc",
   "metadata": {},
   "outputs": [],
   "source": [
    "def interval_m_normal(x, alpha=0.05):\n",
    "    n = len(x)\n",
    "    x_mean = np.mean(x)\n",
    "    s = np.std(x, ddof=1)\n",
    "    #s = np.std(x)\n",
    "    t = stats.t.ppf(1 - alpha/2, df=n-1)\n",
    "    margin_error = t * s / np.sqrt(n-1)\n",
    "    return (x_mean - margin_error, x_mean + margin_error)\n",
    "\n",
    "def interval_s_normal(x, alpha=0.05):\n",
    "    n = len(x)\n",
    "    s = np.std(x, ddof=1)\n",
    "    #s = np.std(x)\n",
    "    chi2_lower = stats.chi2.ppf(alpha/2, df=n-1)\n",
    "    chi2_upper = stats.chi2.ppf(1 - alpha/2, df=n-1)\n",
    "    lower = s * np.sqrt(n-1) / np.sqrt(chi2_upper)\n",
    "    upper = s * np.sqrt(n-1) / np.sqrt(chi2_lower)\n",
    "    return (lower, upper)\n",
    "\n",
    "def interval_m_asymp(x, alpha=0.05):\n",
    "    n = len(x)\n",
    "    x_mean = np.mean(x)\n",
    "    s = np.std(x, ddof=1)\n",
    "    #s = np.std(x)\n",
    "    u = stats.norm.ppf(1 - alpha/2)\n",
    "    margin_error = u * s / np.sqrt(n)\n",
    "    return (x_mean - margin_error, x_mean + margin_error)\n",
    "\n",
    "def interval_s_asymp(x, alpha=0.05):\n",
    "    n = len(x)\n",
    "    s = np.std(x, ddof=1)\n",
    "    #s = np.std(x)\n",
    "    m4 = np.mean((x - np.mean(x))**4)\n",
    "    e = m4 / (s**4) - 3\n",
    "    u = stats.norm.ppf(1 - alpha/2)\n",
    "    U = u * np.sqrt((e + 2) / n)\n",
    "    lower = s * (1 + U)**(-0.5)\n",
    "    upper = s * (1 - U)**(-0.5)\n",
    "    return (lower, upper)"
   ]
  },
  {
   "cell_type": "markdown",
   "id": "6091f3c4-9387-469a-ad39-82d25141c019",
   "metadata": {},
   "source": [
    "# Для нормального распределения (+асимптотический подход)"
   ]
  },
  {
   "cell_type": "code",
   "execution_count": 12,
   "id": "2c14553f-554f-49fd-ba59-f4b4e02998a6",
   "metadata": {},
   "outputs": [
    {
     "name": "stdout",
     "output_type": "stream",
     "text": [
      "\n",
      "Sample size n = 20\n",
      "Normal:\n",
      "M in:  -0.8270307946220352 0.4188904660085862\n",
      "S in:  0.9866359026119629 1.8948989037550403\n",
      "Asymp:\n",
      "M in:  -0.7726563124220827 0.36451598380863376\n",
      "S in:  1.0443478739265273 1.9196559743125985\n",
      "\n",
      "Sample size n = 100\n",
      "Normal:\n",
      "M in:  -0.03910263560405752 0.30359443062399777\n",
      "S in:  0.7544087805432396 0.9981448519697474\n",
      "Asymp:\n",
      "M in:  -0.03615985550046222 0.30065165052040244\n",
      "S in:  0.7623403548884546 1.0058852775886047\n"
     ]
    },
    {
     "data": {
      "image/png": "[encoded data removed]",
      "text/plain": [
       "<Figure size 800x300 with 2 Axes>"
      ]
     },
     "metadata": {},
     "output_type": "display_data"
    },
    {
     "data": {
      "image/png": "[encoded data removed]",
      "text/plain": [
       "<Figure size 800x300 with 2 Axes>"
      ]
     },
     "metadata": {},
     "output_type": "display_data"
    }
   ],
   "source": [
    "m_a=[]\n",
    "m_n=[]\n",
    "s_a=[]\n",
    "s_n=[]\n",
    "def print_(n, x):\n",
    "    print(f\"\\nSample size n = {n}\")\n",
    "    \n",
    "    m_normal = interval_m_normal(x)\n",
    "    sigma_normal = interval_s_normal(x)\n",
    "    m_n.append(list(m_normal))\n",
    "    s_n.append(list(sigma_normal))\n",
    "    m_asymp = interval_m_asymp(x)\n",
    "    sigma_asymp = interval_s_asymp(x)\n",
    "    m_a.append(m_asymp)\n",
    "    s_a.append(sigma_asymp)\n",
    "    \n",
    "    print(\"Normal:\")\n",
    "    print(\"M in: \", m_normal[0], m_normal[1])\n",
    "    print(\"S in: \", sigma_normal[0], sigma_normal[1])\n",
    "    \n",
    "    print(\"Asymp:\")\n",
    "    print(\"M in: \", m_asymp[0], m_asymp[1])\n",
    "    print(\"S in: \", sigma_asymp[0], sigma_asymp[1])\n",
    "  \n",
    "n = 20\n",
    "sample1 = np.random.normal(loc=0, scale=1, size=n)\n",
    "print_(n, sample1)\n",
    "\n",
    "n = 100\n",
    "sample2 = np.random.normal(loc=0, scale=1, size=n)\n",
    "print_(n, sample2)\n",
    "\n",
    "#графики\n",
    "fig, (ax1, ax2) = plt.subplots(1, 2)\n",
    "fig.set_figwidth(8)\n",
    "fig.set_figheight(3)\n",
    "\n",
    "ax1.set_ylim(0.9, 1.2)\n",
    "ax1.plot(m_n[0], [1, 1], 'ro-', label='n = 20')\n",
    "ax1.plot(m_n[1], [1.05, 1.05], 'bo-', label='n = 100')\n",
    "ax1.legend()\n",
    "plt.yticks([])\n",
    "\n",
    "ax2.set_ylim(0.9, 1.2)\n",
    "ax2.plot(s_n[0], [1, 1], 'ro-', label='n = 20')\n",
    "ax2.plot(s_n[1], [1.05, 1.05], 'bo-', label='n = 100')\n",
    "ax2.legend()\n",
    "plt.yticks([])\n",
    "\n",
    "plt.show()\n",
    "\n",
    "#графики для ассимптотического\n",
    "fig, (ax1, ax2) = plt.subplots(1, 2)\n",
    "fig.set_figwidth(8)\n",
    "fig.set_figheight(3)\n",
    "\n",
    "ax1.set_ylim(0.9, 1.2)\n",
    "ax1.plot(m_a[0], [1, 1], 'ro-', label='n = 20')\n",
    "ax1.plot(m_a[1], [1.05, 1.05], 'bo-', label='n = 100')\n",
    "ax1.legend()\n",
    "plt.yticks([])\n",
    "\n",
    "ax2.set_ylim(0.9, 1.2)\n",
    "ax2.plot(s_a[0], [1, 1], 'ro-', label='n = 20')\n",
    "ax2.plot(s_a[1], [1.05, 1.05], 'bo-', label='n = 100')\n",
    "ax2.legend()\n",
    "plt.yticks([])\n",
    "\n",
    "plt.show()\n"
   ]
  },
  {
   "cell_type": "markdown",
   "id": "0e9a90ad-304a-42f1-ae6c-542eb68ede35",
   "metadata": {},
   "source": [
    "# Твины"
   ]
  },
  {
   "cell_type": "code",
   "execution_count": 23,
   "id": "e0bdb515-ae93-49c6-9661-a960c8e72df3",
   "metadata": {},
   "outputs": [
    {
     "name": "stdout",
     "output_type": "stream",
     "text": [
      "Normal 20: Xinn Xout\n",
      "((0.16, -0.568), (-2.722, 2.314))\n",
      "Normal 100 Xinn Xout\n",
      "((0.715, -0.451), (-1.037, 1.302))\n",
      "Asymptotic 20 Xinn Xout\n",
      "((0.272, -0.68), (-2.692, 2.284))\n",
      "Asymptotic 100 Xinn Xout\n",
      "((0.726, -0.462), (-1.042, 1.307))\n"
     ]
    }
   ],
   "source": [
    "def twin(m_l, m_u, s_l, s_u):\n",
    "    x_inn_l = round(m_l + s_l, 3)\n",
    "    x_inn_u = round(m_u - s_l, 3)\n",
    "\n",
    "    x_out_l = round(m_l - s_u, 3)\n",
    "    x_out_u = round(m_u + s_u, 3)\n",
    "\n",
    "    return (x_inn_l, x_inn_u), (x_out_l, x_out_u)\n",
    "print(\"Normal 20: Xinn Xout\")\n",
    "print(twin(m_n[0][0], m_n[0][1], s_n[0][0], s_n[0][1]))\n",
    "print(\"Normal 100 Xinn Xout\")\n",
    "print(twin(m_n[1][0], m_n[1][1], s_n[1][0], s_n[1][1]))\n",
    "print(\"Asymptotic 20 Xinn Xout\")\n",
    "print(twin(m_a[0][0], m_a[0][1], s_a[0][0], s_a[0][1]))\n",
    "print(\"Asymptotic 100 Xinn Xout\")\n",
    "print(twin(m_a[1][0], m_a[1][1], s_a[1][0], s_a[1][1]))\n"
   ]
  },
  {
   "cell_type": "code",
   "execution_count": null,
   "id": "777b8ffb-ce8b-4372-a825-712060cb4338",
   "metadata": {},
   "outputs": [],
   "source": []
  }
 ],
 "metadata": {
  "kernelspec": {
   "display_name": "Python [conda env:base] *",
   "language": "python",
   "name": "conda-base-py"
  },
  "language_info": {
   "codemirror_mode": {
    "name": "ipython",
    "version": 3
   },
   "file_extension": ".py",
   "mimetype": "text/x-python",
   "name": "python",
   "nbconvert_exporter": "python",
   "pygments_lexer": "ipython3",
   "version": "3.12.7"
  }
 },
 "nbformat": 4,
 "nbformat_minor": 5
}
